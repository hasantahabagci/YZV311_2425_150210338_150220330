{
 "cells": [
  {
   "cell_type": "markdown",
   "metadata": {},
   "source": [
    "# YZV311E Data Mining Project Data Preprocessing and Exploration\n",
    "__________"
   ]
  },
  {
   "cell_type": "markdown",
   "metadata": {},
   "source": [
    "### Hasan Taha Bağcı - 150210338\n",
    "### Selman Turan Toker - 150220330\n",
    "____________"
   ]
  },
  {
   "cell_type": "code",
   "execution_count": 58,
   "metadata": {},
   "outputs": [],
   "source": [
    "import pandas as pd\n",
    "import seaborn as sns\n",
    "import matplotlib.pyplot as plt\n",
    "\n",
    "from utils.data_preprocess import *\n",
    "from utils.plots import *\n",
    "\n",
    "import warnings\n",
    "warnings.filterwarnings('ignore')\n",
    "\n",
    "\n",
    "from datetime import timedelta\n",
    "from sklearn.model_selection import train_test_split\n",
    "from sklearn.ensemble import RandomForestClassifier\n",
    "from lightgbm import LGBMClassifier\n",
    "from sklearn.metrics import classification_report\n",
    "from xgboost import XGBClassifier"
   ]
  },
  {
   "cell_type": "markdown",
   "metadata": {},
   "source": [
    "## Reading the Data and Exploring Main Features"
   ]
  },
  {
   "cell_type": "code",
   "execution_count": 40,
   "metadata": {},
   "outputs": [],
   "source": [
    "product_catalog = pd.read_csv('data/product_catalog.csv')\n",
    "product_category_map = pd.read_csv('data/product_category_map.csv')\n",
    "transactions = pd.read_csv('data/transactions.csv')\n",
    "test = pd.read_csv('data/test.csv')"
   ]
  },
  {
   "cell_type": "markdown",
   "metadata": {},
   "source": [
    "Shapes of the datasets are printed below."
   ]
  },
  {
   "cell_type": "code",
   "execution_count": 41,
   "metadata": {},
   "outputs": [
    {
     "name": "stdout",
     "output_type": "stream",
     "text": [
      "product_catalog: (32776, 8)\n",
      "product_category_map: (4332, 2)\n",
      "transactions: (1071538, 4)\n"
     ]
    }
   ],
   "source": [
    "print('product_catalog:', product_catalog.shape)\n",
    "print('product_category_map:', product_category_map.shape)\n",
    "print('transactions:', transactions.shape)\n"
   ]
  },
  {
   "cell_type": "code",
   "execution_count": null,
   "metadata": {},
   "outputs": [],
   "source": [
    "final = transactions.merge(product_catalog, on='product_id', how='left')"
   ]
  },
  {
   "cell_type": "code",
   "execution_count": 43,
   "metadata": {},
   "outputs": [
    {
     "data": {
      "text/html": [
       "<div>\n",
       "<style scoped>\n",
       "    .dataframe tbody tr th:only-of-type {\n",
       "        vertical-align: middle;\n",
       "    }\n",
       "\n",
       "    .dataframe tbody tr th {\n",
       "        vertical-align: top;\n",
       "    }\n",
       "\n",
       "    .dataframe thead th {\n",
       "        text-align: right;\n",
       "    }\n",
       "</style>\n",
       "<table border=\"1\" class=\"dataframe\">\n",
       "  <thead>\n",
       "    <tr style=\"text-align: right;\">\n",
       "      <th></th>\n",
       "      <th>customer_id</th>\n",
       "      <th>product_id</th>\n",
       "      <th>purchase_date</th>\n",
       "      <th>quantity</th>\n",
       "      <th>manufacturer_id</th>\n",
       "      <th>attribute_1</th>\n",
       "      <th>attribute_2</th>\n",
       "      <th>attribute_3</th>\n",
       "      <th>attribute_4</th>\n",
       "      <th>attribute_5</th>\n",
       "      <th>categories</th>\n",
       "    </tr>\n",
       "  </thead>\n",
       "  <tbody>\n",
       "    <tr>\n",
       "      <th>0</th>\n",
       "      <td>38769</td>\n",
       "      <td>3477</td>\n",
       "      <td>2020-06-01</td>\n",
       "      <td>1</td>\n",
       "      <td>186</td>\n",
       "      <td>6</td>\n",
       "      <td>0</td>\n",
       "      <td>196</td>\n",
       "      <td>0</td>\n",
       "      <td>45</td>\n",
       "      <td>[74, 4109, 3867, 803, 4053]</td>\n",
       "    </tr>\n",
       "    <tr>\n",
       "      <th>1</th>\n",
       "      <td>42535</td>\n",
       "      <td>30474</td>\n",
       "      <td>2020-06-01</td>\n",
       "      <td>1</td>\n",
       "      <td>193</td>\n",
       "      <td>10</td>\n",
       "      <td>3</td>\n",
       "      <td>229</td>\n",
       "      <td>3</td>\n",
       "      <td>132</td>\n",
       "      <td>[3459, 3738, 679, 1628, 4072]</td>\n",
       "    </tr>\n",
       "    <tr>\n",
       "      <th>2</th>\n",
       "      <td>42535</td>\n",
       "      <td>15833</td>\n",
       "      <td>2020-06-01</td>\n",
       "      <td>1</td>\n",
       "      <td>1318</td>\n",
       "      <td>4</td>\n",
       "      <td>1</td>\n",
       "      <td>455</td>\n",
       "      <td>0</td>\n",
       "      <td>108</td>\n",
       "      <td>[2973, 2907, 2749, 3357]</td>\n",
       "    </tr>\n",
       "    <tr>\n",
       "      <th>3</th>\n",
       "      <td>42535</td>\n",
       "      <td>20131</td>\n",
       "      <td>2020-06-01</td>\n",
       "      <td>1</td>\n",
       "      <td>347</td>\n",
       "      <td>4</td>\n",
       "      <td>0</td>\n",
       "      <td>291</td>\n",
       "      <td>3</td>\n",
       "      <td>44</td>\n",
       "      <td>[30, 1515, 1760, 2932, 1287, 2615, 3727, 2450,...</td>\n",
       "    </tr>\n",
       "    <tr>\n",
       "      <th>4</th>\n",
       "      <td>42535</td>\n",
       "      <td>4325</td>\n",
       "      <td>2020-06-01</td>\n",
       "      <td>1</td>\n",
       "      <td>539</td>\n",
       "      <td>6</td>\n",
       "      <td>0</td>\n",
       "      <td>303</td>\n",
       "      <td>0</td>\n",
       "      <td>45</td>\n",
       "      <td>[3104, 1772, 2029, 1274, 3915, 888, 1118, 3882...</td>\n",
       "    </tr>\n",
       "  </tbody>\n",
       "</table>\n",
       "</div>"
      ],
      "text/plain": [
       "   customer_id  product_id purchase_date  quantity  manufacturer_id  \\\n",
       "0        38769        3477    2020-06-01         1              186   \n",
       "1        42535       30474    2020-06-01         1              193   \n",
       "2        42535       15833    2020-06-01         1             1318   \n",
       "3        42535       20131    2020-06-01         1              347   \n",
       "4        42535        4325    2020-06-01         1              539   \n",
       "\n",
       "   attribute_1  attribute_2  attribute_3  attribute_4  attribute_5  \\\n",
       "0            6            0          196            0           45   \n",
       "1           10            3          229            3          132   \n",
       "2            4            1          455            0          108   \n",
       "3            4            0          291            3           44   \n",
       "4            6            0          303            0           45   \n",
       "\n",
       "                                          categories  \n",
       "0                        [74, 4109, 3867, 803, 4053]  \n",
       "1                      [3459, 3738, 679, 1628, 4072]  \n",
       "2                           [2973, 2907, 2749, 3357]  \n",
       "3  [30, 1515, 1760, 2932, 1287, 2615, 3727, 2450,...  \n",
       "4  [3104, 1772, 2029, 1274, 3915, 888, 1118, 3882...  "
      ]
     },
     "execution_count": 43,
     "metadata": {},
     "output_type": "execute_result"
    }
   ],
   "source": [
    "final.head()"
   ]
  },
  {
   "cell_type": "code",
   "execution_count": 46,
   "metadata": {},
   "outputs": [],
   "source": [
    "import ast\n",
    "\n",
    "# Create a mapping from category_id to parent_category_id\n",
    "category_to_parent = product_category_map.set_index('category_id')['parent_category_id'].to_dict()\n",
    "\n",
    "# Function to map categories to their parent categories\n",
    "def get_parent_categories(categories_str):\n",
    "    if pd.isna(categories_str) or categories_str == '':\n",
    "        return []\n",
    "    # Convert string representation of list to an actual list\n",
    "    categories = ast.literal_eval(categories_str)\n",
    "    # Map each category to its parent\n",
    "    parent_categories = [category_to_parent.get(cat_id, None) for cat_id in categories]\n",
    "    # Remove None values if any category_id doesn't have a parent in the map\n",
    "    return [parent for parent in parent_categories if parent is not None]\n",
    "\n",
    "# Apply the function to add the parent_categories column\n",
    "final['parent_categories'] = final['categories'].apply(get_parent_categories)"
   ]
  },
  {
   "cell_type": "code",
   "execution_count": 53,
   "metadata": {},
   "outputs": [],
   "source": [
    "def fill_missing_category(row):\n",
    "    if pd.isna(row['category']):\n",
    "        return row['parent_categories']\n",
    "    return row['category']"
   ]
  },
  {
   "cell_type": "code",
   "execution_count": 51,
   "metadata": {},
   "outputs": [
    {
     "data": {
      "text/plain": [
       "customer_id          0\n",
       "product_id           0\n",
       "purchase_date        0\n",
       "quantity             0\n",
       "manufacturer_id      0\n",
       "attribute_1          0\n",
       "attribute_2          0\n",
       "attribute_3          0\n",
       "attribute_4          0\n",
       "attribute_5          0\n",
       "categories           0\n",
       "parent_categories    0\n",
       "dtype: int64"
      ]
     },
     "execution_count": 51,
     "metadata": {},
     "output_type": "execute_result"
    }
   ],
   "source": [
    "final_nulls_removed = final.dropna()\n",
    "final_nulls_removed.isnull().sum()"
   ]
  },
  {
   "cell_type": "code",
   "execution_count": 54,
   "metadata": {},
   "outputs": [],
   "source": [
    "final_nulls_filled = final.fillna(fill_missing_category, axis=1)"
   ]
  },
  {
   "cell_type": "code",
   "execution_count": 55,
   "metadata": {},
   "outputs": [
    {
     "name": "stdout",
     "output_type": "stream",
     "text": [
      "<class 'pandas.core.frame.DataFrame'>\n",
      "Int64Index: 1071538 entries, 0 to 1071537\n",
      "Data columns (total 12 columns):\n",
      " #   Column             Non-Null Count    Dtype \n",
      "---  ------             --------------    ----- \n",
      " 0   customer_id        1071538 non-null  object\n",
      " 1   product_id         1071538 non-null  object\n",
      " 2   purchase_date      1071538 non-null  object\n",
      " 3   quantity           1071538 non-null  object\n",
      " 4   manufacturer_id    1071538 non-null  object\n",
      " 5   attribute_1        1071538 non-null  object\n",
      " 6   attribute_2        1071538 non-null  object\n",
      " 7   attribute_3        1071538 non-null  object\n",
      " 8   attribute_4        1071538 non-null  object\n",
      " 9   attribute_5        1071538 non-null  object\n",
      " 10  categories         1071538 non-null  object\n",
      " 11  parent_categories  1071538 non-null  object\n",
      "dtypes: object(12)\n",
      "memory usage: 106.3+ MB\n"
     ]
    }
   ],
   "source": [
    "final_nulls_filled.info()"
   ]
  },
  {
   "cell_type": "code",
   "execution_count": 61,
   "metadata": {},
   "outputs": [],
   "source": [
    "X = final_nulls_filled.drop(['quantity'], axis=1).reset_index(drop=True)\n",
    "y = final_nulls_filled['quantity'].reset_index(drop=True)\n",
    "\n",
    "X_train, X_test, y_train, y_test = train_test_split(X, y, test_size=0.2, random_state=38)"
   ]
  },
  {
   "cell_type": "code",
   "execution_count": null,
   "metadata": {},
   "outputs": [],
   "source": []
  },
  {
   "cell_type": "code",
   "execution_count": 62,
   "metadata": {},
   "outputs": [
    {
     "ename": "ValueError",
     "evalue": "Invalid classes inferred from unique values of `y`.  Expected: [ 0  1  2  3  4  5  6  7  8  9 10 11 12 13 14 15 16 17 18 19 20 21 22 23\n 24 25 26 27 28 29 30 31 32 33 34 35 36 37 38 39 40 41 42 43 44 45 46], got [1 2 3 4 5 6 7 8 9 10 11 12 13 14 15 16 17 18 19 20 21 22 23 24 25 26 27\n 28 29 30 31 32 34 35 40 48 49 50 51 60 63 65 70 80 85 98 100]",
     "output_type": "error",
     "traceback": [
      "\u001b[0;31m---------------------------------------------------------------------------\u001b[0m",
      "\u001b[0;31mValueError\u001b[0m                                Traceback (most recent call last)",
      "Cell \u001b[0;32mIn[62], line 2\u001b[0m\n\u001b[1;32m      1\u001b[0m xgb_model \u001b[38;5;241m=\u001b[39m XGBClassifier()\n\u001b[0;32m----> 2\u001b[0m \u001b[43mxgb_model\u001b[49m\u001b[38;5;241;43m.\u001b[39;49m\u001b[43mfit\u001b[49m\u001b[43m(\u001b[49m\u001b[43mX_train\u001b[49m\u001b[43m,\u001b[49m\u001b[43m \u001b[49m\u001b[43my_train\u001b[49m\u001b[43m)\u001b[49m\n\u001b[1;32m      3\u001b[0m y_pred \u001b[38;5;241m=\u001b[39m xgb_model\u001b[38;5;241m.\u001b[39mpredict(X_test)\n\u001b[1;32m      4\u001b[0m \u001b[38;5;28mprint\u001b[39m(classification_report(y_test, y_pred))\n",
      "File \u001b[0;32m~/miniconda3/lib/python3.9/site-packages/xgboost/core.py:730\u001b[0m, in \u001b[0;36mrequire_keyword_args.<locals>.throw_if.<locals>.inner_f\u001b[0;34m(*args, **kwargs)\u001b[0m\n\u001b[1;32m    728\u001b[0m \u001b[38;5;28;01mfor\u001b[39;00m k, arg \u001b[38;5;129;01min\u001b[39;00m \u001b[38;5;28mzip\u001b[39m(sig\u001b[38;5;241m.\u001b[39mparameters, args):\n\u001b[1;32m    729\u001b[0m     kwargs[k] \u001b[38;5;241m=\u001b[39m arg\n\u001b[0;32m--> 730\u001b[0m \u001b[38;5;28;01mreturn\u001b[39;00m \u001b[43mfunc\u001b[49m\u001b[43m(\u001b[49m\u001b[38;5;241;43m*\u001b[39;49m\u001b[38;5;241;43m*\u001b[39;49m\u001b[43mkwargs\u001b[49m\u001b[43m)\u001b[49m\n",
      "File \u001b[0;32m~/miniconda3/lib/python3.9/site-packages/xgboost/sklearn.py:1471\u001b[0m, in \u001b[0;36mXGBClassifier.fit\u001b[0;34m(self, X, y, sample_weight, base_margin, eval_set, eval_metric, early_stopping_rounds, verbose, xgb_model, sample_weight_eval_set, base_margin_eval_set, feature_weights, callbacks)\u001b[0m\n\u001b[1;32m   1466\u001b[0m     expected_classes \u001b[38;5;241m=\u001b[39m \u001b[38;5;28mself\u001b[39m\u001b[38;5;241m.\u001b[39mclasses_\n\u001b[1;32m   1467\u001b[0m \u001b[38;5;28;01mif\u001b[39;00m (\n\u001b[1;32m   1468\u001b[0m     classes\u001b[38;5;241m.\u001b[39mshape \u001b[38;5;241m!=\u001b[39m expected_classes\u001b[38;5;241m.\u001b[39mshape\n\u001b[1;32m   1469\u001b[0m     \u001b[38;5;129;01mor\u001b[39;00m \u001b[38;5;129;01mnot\u001b[39;00m (classes \u001b[38;5;241m==\u001b[39m expected_classes)\u001b[38;5;241m.\u001b[39mall()\n\u001b[1;32m   1470\u001b[0m ):\n\u001b[0;32m-> 1471\u001b[0m     \u001b[38;5;28;01mraise\u001b[39;00m \u001b[38;5;167;01mValueError\u001b[39;00m(\n\u001b[1;32m   1472\u001b[0m         \u001b[38;5;124mf\u001b[39m\u001b[38;5;124m\"\u001b[39m\u001b[38;5;124mInvalid classes inferred from unique values of `y`.  \u001b[39m\u001b[38;5;124m\"\u001b[39m\n\u001b[1;32m   1473\u001b[0m         \u001b[38;5;124mf\u001b[39m\u001b[38;5;124m\"\u001b[39m\u001b[38;5;124mExpected: \u001b[39m\u001b[38;5;132;01m{\u001b[39;00mexpected_classes\u001b[38;5;132;01m}\u001b[39;00m\u001b[38;5;124m, got \u001b[39m\u001b[38;5;132;01m{\u001b[39;00mclasses\u001b[38;5;132;01m}\u001b[39;00m\u001b[38;5;124m\"\u001b[39m\n\u001b[1;32m   1474\u001b[0m     )\n\u001b[1;32m   1476\u001b[0m params \u001b[38;5;241m=\u001b[39m \u001b[38;5;28mself\u001b[39m\u001b[38;5;241m.\u001b[39mget_xgb_params()\n\u001b[1;32m   1478\u001b[0m \u001b[38;5;28;01mif\u001b[39;00m \u001b[38;5;28mcallable\u001b[39m(\u001b[38;5;28mself\u001b[39m\u001b[38;5;241m.\u001b[39mobjective):\n",
      "\u001b[0;31mValueError\u001b[0m: Invalid classes inferred from unique values of `y`.  Expected: [ 0  1  2  3  4  5  6  7  8  9 10 11 12 13 14 15 16 17 18 19 20 21 22 23\n 24 25 26 27 28 29 30 31 32 33 34 35 36 37 38 39 40 41 42 43 44 45 46], got [1 2 3 4 5 6 7 8 9 10 11 12 13 14 15 16 17 18 19 20 21 22 23 24 25 26 27\n 28 29 30 31 32 34 35 40 48 49 50 51 60 63 65 70 80 85 98 100]"
     ]
    }
   ],
   "source": [
    "xgb_model = XGBClassifier()\n",
    "xgb_model.fit(X_train, y_train)\n",
    "y_pred = xgb_model.predict(X_test)\n",
    "print(classification_report(y_test, y_pred))\n"
   ]
  },
  {
   "cell_type": "code",
   "execution_count": null,
   "metadata": {},
   "outputs": [],
   "source": [
    "# Get ready for the model split the data into train and test\n",
    "final_nulls_filled['purchase_date'] = pd.to_datetime(final_nulls_filled['purchase_date'])\n",
    "\n",
    "# Get the latest purchase date\n",
    "latest_date = final_nulls_filled['purchase_date'].max()\n",
    "\n",
    "# Calculate the recency of each purchase\n",
    "final_nulls_filled['recency'] = latest_date - final_nulls_filled['purchase_date']\n",
    "\n",
    "# Convert recency to days\n",
    "final_nulls_filled['recency'] = final_nulls_filled['recency'].dt.days\n",
    "\n",
    "# Get the total number of purchases for each user\n",
    "final_nulls_filled['total_purchases'] = final_nulls_filled.groupby('user_id')['user_id'].transform('count')\n",
    "\n",
    "# Get the total amount spent by each user\n",
    "final_nulls_filled['total_spent'] = final_nulls_filled.groupby('user_id')['price'].transform('sum')\n",
    "\n",
    "# Get the average amount spent by each user\n",
    "final_nulls_filled['average_spent'] = final_nulls_filled.groupby('user_id')['price'].transform('mean')\n",
    "\n",
    "# Get the total number of unique products purchased by each user\n",
    "final_nulls_filled['unique_products'] = final_nulls_filled.groupby('user_id')['product_id'].transform('nunique')"
   ]
  }
 ],
 "metadata": {
  "kernelspec": {
   "display_name": "base",
   "language": "python",
   "name": "python3"
  },
  "language_info": {
   "codemirror_mode": {
    "name": "ipython",
    "version": 3
   },
   "file_extension": ".py",
   "mimetype": "text/x-python",
   "name": "python",
   "nbconvert_exporter": "python",
   "pygments_lexer": "ipython3",
   "version": "3.9.7"
  }
 },
 "nbformat": 4,
 "nbformat_minor": 2
}
