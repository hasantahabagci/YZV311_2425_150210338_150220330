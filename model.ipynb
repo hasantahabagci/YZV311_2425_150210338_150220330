{
 "cells": [
  {
   "cell_type": "code",
   "execution_count": 1,
   "metadata": {},
   "outputs": [],
   "source": [
    "from sklearn.model_selection import learning_curve, GridSearchCV, validation_curve"
   ]
  },
  {
   "cell_type": "code",
   "execution_count": 2,
   "metadata": {},
   "outputs": [],
   "source": [
    "def gridSearch(model, param_grid, X_train, y_train, cv=2, scoring='accuracy', model_name= 'model_name'):\n",
    "    \"\"\"\n",
    "    This function performs grid search\n",
    "    :param model: model\n",
    "    :param param_grid: parameter grid\n",
    "    :param X_train: training data\n",
    "    :param y_train: training labels\n",
    "    :param X_test: test data\n",
    "    :param y_test: test labels\n",
    "    :return: best estimator\n",
    "    \"\"\"\n",
    "\n",
    "    grid = GridSearchCV(model, param_grid, cv=cv, scoring=scoring)\n",
    "    grid.fit(X_train, y_train)\n",
    "\n",
    "    print(\"Best parameters for \", model_name, \": \", grid.best_params_)\n",
    "    print(\"Best score for \", model_name, \": \", grid.best_score_)\n",
    "    print(\"Best estimator for \", model_name, \": \", grid.best_estimator_)\n",
    "\n",
    "\n",
    "    return grid"
   ]
  }
 ],
 "metadata": {
  "kernelspec": {
   "display_name": "base",
   "language": "python",
   "name": "python3"
  },
  "language_info": {
   "codemirror_mode": {
    "name": "ipython",
    "version": 3
   },
   "file_extension": ".py",
   "mimetype": "text/x-python",
   "name": "python",
   "nbconvert_exporter": "python",
   "pygments_lexer": "ipython3",
   "version": "3.11.7"
  }
 },
 "nbformat": 4,
 "nbformat_minor": 2
}
